{
 "cells": [
  {
   "cell_type": "code",
   "execution_count": 46,
   "id": "129474a4",
   "metadata": {},
   "outputs": [],
   "source": [
    "import psycopg2"
   ]
  },
  {
   "cell_type": "code",
   "execution_count": 47,
   "id": "16a6421e",
   "metadata": {},
   "outputs": [],
   "source": [
    "conn = psycopg2.connect(host=\"localhost\", database=\"postgres\", user=\"postgres\", password=\"root\")\n",
    "conn.autocommit = True\n"
   ]
  },
  {
   "cell_type": "code",
   "execution_count": 48,
   "id": "07acab18",
   "metadata": {},
   "outputs": [],
   "source": [
    "cursor = conn.cursor()\n",
    "cursor.execute(\"select * from inventory\")\n",
    "results = cursor.fetchall()\n",
    "for row in results:\n",
    "    print(row)"
   ]
  },
  {
   "cell_type": "code",
   "execution_count": 49,
   "id": "70216820",
   "metadata": {},
   "outputs": [
    {
     "name": "stdout",
     "output_type": "stream",
     "text": [
      "Proportion of sales per inventory:\n"
     ]
    }
   ],
   "source": [
    "cursor = conn.cursor()\n",
    "cursor.execute(\"\"\"\n",
    "SELECT stores.store_id,\n",
    "       100.0 * SUM(sales.units) / (SUM(sales.units) + SUM(inventory.stock_on_hand)) AS sales_proportion\n",
    "FROM sales\n",
    "JOIN stores ON sales.store_id = stores.store_id\n",
    "JOIN inventory ON stores.store_id = inventory.store_id AND sales.product_id = inventory.product_id\n",
    "GROUP BY stores.store_id;\n",
    "\"\"\")\n",
    "sales_proportions = cursor.fetchall()\n",
    "\n",
    "print(\"Proportion of sales per inventory:\")\n",
    "for store_id, proportion in sales_proportions:\n",
    "    print(f\"Store name: {store_name}, Proportion: {proportion:.2f}%\")\n",
    "    \n",
    "    \n",
    "\n",
    "\n"
   ]
  },
  {
   "cell_type": "code",
   "execution_count": 77,
   "id": "0a3bf337",
   "metadata": {},
   "outputs": [
    {
     "ename": "UndefinedColumn",
     "evalue": "column products.price does not exist\nLINE 4:        SUM(sales.units * products.price) AS total_sales\n                                 ^\n",
     "output_type": "error",
     "traceback": [
      "\u001b[1;31m---------------------------------------------------------------------------\u001b[0m",
      "\u001b[1;31mUndefinedColumn\u001b[0m                           Traceback (most recent call last)",
      "Input \u001b[1;32mIn [77]\u001b[0m, in \u001b[0;36m<cell line: 3>\u001b[1;34m()\u001b[0m\n\u001b[0;32m      1\u001b[0m cursor \u001b[38;5;241m=\u001b[39m conn\u001b[38;5;241m.\u001b[39mcursor()\n\u001b[1;32m----> 3\u001b[0m \u001b[43mcursor\u001b[49m\u001b[38;5;241;43m.\u001b[39;49m\u001b[43mexecute\u001b[49m\u001b[43m(\u001b[49m\u001b[38;5;124;43m\"\"\"\u001b[39;49m\n\u001b[0;32m      4\u001b[0m \u001b[38;5;124;43mSELECT sales.year ,\u001b[39;49m\n\u001b[0;32m      5\u001b[0m \u001b[38;5;124;43m       sales.quarter ,\u001b[39;49m\n\u001b[0;32m      6\u001b[0m \u001b[38;5;124;43m       SUM(sales.units * products.price) AS total_sales\u001b[39;49m\n\u001b[0;32m      7\u001b[0m \u001b[38;5;124;43mFROM sales\u001b[39;49m\n\u001b[0;32m      8\u001b[0m \u001b[38;5;124;43mJOIN products ON sales.product_id = products.product_id\u001b[39;49m\n\u001b[0;32m      9\u001b[0m \u001b[38;5;124;43mGROUP BY sales.year, sales.quarter;\u001b[39;49m\n\u001b[0;32m     10\u001b[0m \n\u001b[0;32m     11\u001b[0m \u001b[38;5;124;43m\"\"\"\u001b[39;49m\u001b[43m)\u001b[49m\n\u001b[0;32m     12\u001b[0m sales_per_quarter_per_year \u001b[38;5;241m=\u001b[39m cursor\u001b[38;5;241m.\u001b[39mfetchall()\n\u001b[0;32m     14\u001b[0m \u001b[38;5;66;03m# Print results with formatting\u001b[39;00m\n",
      "\u001b[1;31mUndefinedColumn\u001b[0m: column products.price does not exist\nLINE 4:        SUM(sales.units * products.price) AS total_sales\n                                 ^\n"
     ]
    }
   ],
   "source": [
    "cursor = conn.cursor()\n",
    "\n",
    "cursor.execute(\"\"\"\n",
    "SELECT sales.year ,\n",
    "       sales.quarter ,\n",
    "       SUM(sales.units * products.price) AS total_sales\n",
    "FROM sales\n",
    "JOIN products ON sales.product_id = products.product_id\n",
    "GROUP BY sales.year, sales.quarter;\n",
    "\n",
    "\"\"\")\n",
    "sales_per_quarter_per_year = cursor.fetchall()\n",
    "\n",
    "# Print results with formatting\n",
    "print(\"Sales per quarter per year:\")\n",
    "for year, quarter, total_sales in sales_per_quarter_per_year:\n",
    "    # Convert quarter number to human-readable format\n",
    "    quarter_name = [\"Q1\", \"Q2\", \"Q3\", \"Q4\"][quarter - 1]\n",
    "    print(f\"Year: {year}, Quarter: {quarter_name}, Total Sales: {total_sales}\")\n"
   ]
  },
  {
   "cell_type": "code",
   "execution_count": 76,
   "id": "45eb42fd",
   "metadata": {},
   "outputs": [
    {
     "ename": "UndefinedTable",
     "evalue": "missing FROM-clause entry for table \"product\"\nLINE 2: SELECT stores.store_name, SUM(product.price * sales.units) A...\n                                      ^\n",
     "output_type": "error",
     "traceback": [
      "\u001b[1;31m---------------------------------------------------------------------------\u001b[0m",
      "\u001b[1;31mUndefinedTable\u001b[0m                            Traceback (most recent call last)",
      "Input \u001b[1;32mIn [76]\u001b[0m, in \u001b[0;36m<cell line: 3>\u001b[1;34m()\u001b[0m\n\u001b[0;32m      1\u001b[0m cursor \u001b[38;5;241m=\u001b[39m conn\u001b[38;5;241m.\u001b[39mcursor()\n\u001b[1;32m----> 3\u001b[0m \u001b[43mcursor\u001b[49m\u001b[38;5;241;43m.\u001b[39;49m\u001b[43mexecute\u001b[49m\u001b[43m(\u001b[49m\u001b[38;5;124;43m\"\"\"\u001b[39;49m\n\u001b[0;32m      4\u001b[0m \u001b[38;5;124;43mSELECT stores.store_name, SUM(product.price * sales.units) AS revenue\u001b[39;49m\n\u001b[0;32m      5\u001b[0m \u001b[38;5;124;43mFROM sales\u001b[39;49m\n\u001b[0;32m      6\u001b[0m \u001b[38;5;124;43mJOIN products ON sales.product_id = products.product_id\u001b[39;49m\n\u001b[0;32m      7\u001b[0m \u001b[38;5;124;43mJOIN stores ON sales.store_id = stores.store_id\u001b[39;49m\n\u001b[0;32m      8\u001b[0m \u001b[38;5;124;43mGROUP BY stores.store_name;\u001b[39;49m\n\u001b[0;32m      9\u001b[0m \n\u001b[0;32m     10\u001b[0m \n\u001b[0;32m     11\u001b[0m \u001b[38;5;124;43m\"\"\"\u001b[39;49m\u001b[43m)\u001b[49m\n\u001b[0;32m     12\u001b[0m revenue_per_store \u001b[38;5;241m=\u001b[39m cursor\u001b[38;5;241m.\u001b[39mfetchall()\n\u001b[0;32m     13\u001b[0m \u001b[38;5;28mprint\u001b[39m(\u001b[38;5;124m\"\u001b[39m\u001b[38;5;124mRevenue per store:\u001b[39m\u001b[38;5;124m\"\u001b[39m)\n",
      "\u001b[1;31mUndefinedTable\u001b[0m: missing FROM-clause entry for table \"product\"\nLINE 2: SELECT stores.store_name, SUM(product.price * sales.units) A...\n                                      ^\n"
     ]
    }
   ],
   "source": [
    "cursor = conn.cursor()\n",
    "\n",
    "cursor.execute(\"\"\"\n",
    "SELECT stores.store_name, SUM(product.price * sales.units) AS revenue\n",
    "FROM sales\n",
    "JOIN products ON sales.product_id = products.product_id\n",
    "JOIN stores ON sales.store_id = stores.store_id\n",
    "GROUP BY stores.store_name;\n",
    "\n",
    "\n",
    "\"\"\")\n",
    "revenue_per_store = cursor.fetchall()\n",
    "print(\"Revenue per store:\")\n",
    "for store_id, revenue in revenue_per_store:\n",
    "    print(f\"Store ID: {store_id}, Revenue: {revenue}\")\n"
   ]
  },
  {
   "cell_type": "code",
   "execution_count": 74,
   "id": "e49da7d7",
   "metadata": {},
   "outputs": [
    {
     "ename": "UndefinedColumn",
     "evalue": "column products.price does not exist\nLINE 2: SELECT SUM(products.price * sales.quantity) AS revenue\n                   ^\n",
     "output_type": "error",
     "traceback": [
      "\u001b[1;31m---------------------------------------------------------------------------\u001b[0m",
      "\u001b[1;31mUndefinedColumn\u001b[0m                           Traceback (most recent call last)",
      "Input \u001b[1;32mIn [74]\u001b[0m, in \u001b[0;36m<cell line: 3>\u001b[1;34m()\u001b[0m\n\u001b[0;32m      1\u001b[0m cursor \u001b[38;5;241m=\u001b[39m conn\u001b[38;5;241m.\u001b[39mcursor()\n\u001b[1;32m----> 3\u001b[0m \u001b[43mcursor\u001b[49m\u001b[38;5;241;43m.\u001b[39;49m\u001b[43mexecute\u001b[49m\u001b[43m(\u001b[49m\u001b[38;5;124;43m\"\"\"\u001b[39;49m\n\u001b[0;32m      4\u001b[0m \u001b[38;5;124;43mSELECT SUM(products.price * sales.quantity) AS revenue\u001b[39;49m\n\u001b[0;32m      5\u001b[0m \u001b[38;5;124;43mFROM sales\u001b[39;49m\n\u001b[0;32m      6\u001b[0m \u001b[38;5;124;43mJOIN products ON sales.product_id = products.product_id\u001b[39;49m\n\u001b[0;32m      7\u001b[0m \u001b[38;5;124;43mGROUP BY products.category;\u001b[39;49m\n\u001b[0;32m      8\u001b[0m \n\u001b[0;32m      9\u001b[0m \u001b[38;5;124;43m\"\"\"\u001b[39;49m\u001b[43m)\u001b[49m\n\u001b[0;32m     10\u001b[0m revenue_per_category \u001b[38;5;241m=\u001b[39m cursor\u001b[38;5;241m.\u001b[39mfetchall()\n\u001b[0;32m     11\u001b[0m \u001b[38;5;28mprint\u001b[39m(\u001b[38;5;124m\"\u001b[39m\u001b[38;5;130;01m\\n\u001b[39;00m\u001b[38;5;124mRevenue per product category:\u001b[39m\u001b[38;5;124m\"\u001b[39m)\n",
      "\u001b[1;31mUndefinedColumn\u001b[0m: column products.price does not exist\nLINE 2: SELECT SUM(products.price * sales.quantity) AS revenue\n                   ^\n"
     ]
    }
   ],
   "source": [
    "cursor = conn.cursor()\n",
    "\n",
    "cursor.execute(\"\"\"\n",
    "SELECT SUM(products.price * sales.quantity) AS revenue\n",
    "FROM sales\n",
    "JOIN products ON sales.product_id = products.product_id\n",
    "GROUP BY products.category;\n",
    "\n",
    "\"\"\")\n",
    "revenue_per_category = cursor.fetchall()\n",
    "print(\"\\nRevenue per product category:\")\n",
    "for category, revenue in revenue_per_category:\n",
    "    print(f\"Category: {category}, Revenue: {revenue}\")\n"
   ]
  },
  {
   "cell_type": "code",
   "execution_count": 69,
   "id": "1f89f732",
   "metadata": {},
   "outputs": [
    {
     "ename": "UndefinedTable",
     "evalue": "missing FROM-clause entry for table \"product\"\nLINE 2: SELECT  SUM(product.price * sales.quantity) AS revenue\n                    ^\n",
     "output_type": "error",
     "traceback": [
      "\u001b[1;31m---------------------------------------------------------------------------\u001b[0m",
      "\u001b[1;31mUndefinedTable\u001b[0m                            Traceback (most recent call last)",
      "Input \u001b[1;32mIn [69]\u001b[0m, in \u001b[0;36m<cell line: 3>\u001b[1;34m()\u001b[0m\n\u001b[0;32m      1\u001b[0m cursor \u001b[38;5;241m=\u001b[39m conn\u001b[38;5;241m.\u001b[39mcursor()\n\u001b[1;32m----> 3\u001b[0m \u001b[43mcursor\u001b[49m\u001b[38;5;241;43m.\u001b[39;49m\u001b[43mexecute\u001b[49m\u001b[43m(\u001b[49m\u001b[38;5;124;43m\"\"\"\u001b[39;49m\n\u001b[0;32m      4\u001b[0m \u001b[38;5;124;43mSELECT  SUM(product.price * sales.quantity) AS revenue\u001b[39;49m\n\u001b[0;32m      5\u001b[0m \u001b[38;5;124;43mFROM sales\u001b[39;49m\n\u001b[0;32m      6\u001b[0m \u001b[38;5;124;43mJOIN products ON sales.product_id = products.product_id\u001b[39;49m\n\u001b[0;32m      7\u001b[0m \u001b[38;5;124;43mGROUP BY products.category;\u001b[39;49m\n\u001b[0;32m      8\u001b[0m \n\u001b[0;32m      9\u001b[0m \u001b[38;5;124;43m\"\"\"\u001b[39;49m\u001b[43m)\u001b[49m\n\u001b[0;32m     10\u001b[0m revenue_per_category \u001b[38;5;241m=\u001b[39m cursor\u001b[38;5;241m.\u001b[39mfetchall()\n\u001b[0;32m     11\u001b[0m \u001b[38;5;28mprint\u001b[39m(\u001b[38;5;124m\"\u001b[39m\u001b[38;5;130;01m\\n\u001b[39;00m\u001b[38;5;124mRevenue per product category:\u001b[39m\u001b[38;5;124m\"\u001b[39m)\n",
      "\u001b[1;31mUndefinedTable\u001b[0m: missing FROM-clause entry for table \"product\"\nLINE 2: SELECT  SUM(product.price * sales.quantity) AS revenue\n                    ^\n"
     ]
    }
   ],
   "source": [
    "cursor = conn.cursor()\n",
    "\n",
    "cursor.execute(\"\"\"\n",
    "SELECT  SUM(product.price * sales.quantity) AS revenue\n",
    "FROM sales\n",
    "JOIN products ON sales.product_id = products.product_id\n",
    "GROUP BY products.category;\n",
    "\n",
    "\"\"\")\n",
    "revenue_per_category = cursor.fetchall()\n",
    "print(\"\\nRevenue per product category:\")\n",
    "for category, revenue in revenue_per_category:\n",
    "    print(f\"Category: {category}, Revenue: {revenue}\")\n"
   ]
  },
  {
   "cell_type": "code",
   "execution_count": 67,
   "id": "93717a7e",
   "metadata": {},
   "outputs": [
    {
     "name": "stdout",
     "output_type": "stream",
     "text": [
      "Top 10 sold products:\n"
     ]
    }
   ],
   "source": [
    "cursor = conn.cursor()\n",
    "\n",
    "cursor.execute(\"\"\"\n",
    "SELECT products.product_name, SUM(sales.units) AS total_sold\n",
    "FROM sales \n",
    "JOIN products  ON sales.product_id = products.product_id\n",
    "GROUP BY  products.product_name\n",
    "ORDER BY total_sold DESC \n",
    "LIMIT 10;\n",
    "\"\"\")\n",
    "top_10_products = cursor.fetchall()\n",
    "\n",
    "print(\"Top 10 sold products:\")\n",
    "for name, total_sold in top_10_products:\n",
    "    print(f\"{name}: {total_sold}\")\n"
   ]
  },
  {
   "cell_type": "code",
   "execution_count": 78,
   "id": "60b88f98",
   "metadata": {},
   "outputs": [
    {
     "ename": "UndefinedColumn",
     "evalue": "column sales.quantity does not exist\nLINE 2: SELECT  SUM(sales.quantity * products.profit) AS profit\n                    ^\n",
     "output_type": "error",
     "traceback": [
      "\u001b[1;31m---------------------------------------------------------------------------\u001b[0m",
      "\u001b[1;31mUndefinedColumn\u001b[0m                           Traceback (most recent call last)",
      "Input \u001b[1;32mIn [78]\u001b[0m, in \u001b[0;36m<cell line: 3>\u001b[1;34m()\u001b[0m\n\u001b[0;32m      1\u001b[0m cursor \u001b[38;5;241m=\u001b[39m conn\u001b[38;5;241m.\u001b[39mcursor()\n\u001b[1;32m----> 3\u001b[0m \u001b[43mcursor\u001b[49m\u001b[38;5;241;43m.\u001b[39;49m\u001b[43mexecute\u001b[49m\u001b[43m(\u001b[49m\u001b[38;5;124;43m\"\"\"\u001b[39;49m\n\u001b[0;32m      4\u001b[0m \u001b[38;5;124;43mSELECT  SUM(sales.quantity * products.profit) AS profit\u001b[39;49m\n\u001b[0;32m      5\u001b[0m \u001b[38;5;124;43mFROM sales,products \u001b[39;49m\n\u001b[0;32m      6\u001b[0m \u001b[38;5;124;43mwhere sales.product_id = products.product_id\u001b[39;49m\n\u001b[0;32m      7\u001b[0m \u001b[38;5;124;43mGROUP BY products.category;\u001b[39;49m\n\u001b[0;32m      8\u001b[0m \n\u001b[0;32m      9\u001b[0m \u001b[38;5;124;43m\"\"\"\u001b[39;49m\u001b[43m)\u001b[49m\n\u001b[0;32m     10\u001b[0m profit_per_store \u001b[38;5;241m=\u001b[39m cursor\u001b[38;5;241m.\u001b[39mfetchall()\n\u001b[0;32m     11\u001b[0m \u001b[38;5;28mprint\u001b[39m(\u001b[38;5;124m\"\u001b[39m\u001b[38;5;124mProfit per store:\u001b[39m\u001b[38;5;124m\"\u001b[39m)\n",
      "\u001b[1;31mUndefinedColumn\u001b[0m: column sales.quantity does not exist\nLINE 2: SELECT  SUM(sales.quantity * products.profit) AS profit\n                    ^\n"
     ]
    }
   ],
   "source": [
    "cursor = conn.cursor()\n",
    "\n",
    "cursor.execute(\"\"\"\n",
    "SELECT  SUM(sales.quantity * products.profit) AS profit\n",
    "FROM sales,products \n",
    "where sales.product_id = products.product_id\n",
    "GROUP BY products.category;\n",
    "\n",
    "\"\"\")\n",
    "profit_per_store = cursor.fetchall()\n",
    "print(\"Profit per store:\")\n",
    "for store_id, profit in profit_per_store:\n",
    "    print(f\"Store ID: {store_id}, Profit: {profit}\")\n"
   ]
  },
  {
   "cell_type": "code",
   "execution_count": 79,
   "id": "5c7f676a",
   "metadata": {},
   "outputs": [],
   "source": [
    "\n",
    "cursor.close()\n",
    "conn.close()\n"
   ]
  }
 ],
 "metadata": {
  "kernelspec": {
   "display_name": "Python 3",
   "language": "python",
   "name": "python3"
  },
  "language_info": {
   "codemirror_mode": {
    "name": "ipython",
    "version": 3
   },
   "file_extension": ".py",
   "mimetype": "text/x-python",
   "name": "python",
   "nbconvert_exporter": "python",
   "pygments_lexer": "ipython3",
   "version": "3.9.12"
  }
 },
 "nbformat": 4,
 "nbformat_minor": 5
}
