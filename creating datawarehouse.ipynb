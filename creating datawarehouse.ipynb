{
 "cells": [
  {
   "cell_type": "code",
   "execution_count": 1,
   "id": "152d4a39",
   "metadata": {},
   "outputs": [],
   "source": [
    "from sqlalchemy import create_engine\n",
    "import pandas as pd\n",
    "import sqlalchemy as sa\n",
    "\n",
    "stores= pd.read_csv('final data/cleaned_stores.csv')\n",
    "products = pd.read_csv('final data/cleaned_product.csv')\n",
    "sales = pd.read_csv('final data/cleaned_sales.csv')\n",
    "inventory = pd.read_csv('final data/cleaned_inventory.csv')"
   ]
  },
  {
   "cell_type": "code",
   "execution_count": 2,
   "id": "ae5a0751",
   "metadata": {},
   "outputs": [],
   "source": [
    "salesXproducts= pd.read_csv('final data/salesXproducts.csv')\n",
    "salesXstores = pd.read_csv('final data/salesXstores.csv')\n",
    "inventoryXproducts = pd.read_csv('final data/inventoryXproducts.csv')\n",
    "inventoryXstores = pd.read_csv('final data/inventoryXstores.csv')"
   ]
  },
  {
   "cell_type": "code",
   "execution_count": 3,
   "id": "38485031",
   "metadata": {},
   "outputs": [],
   "source": [
    "from sqlalchemy import create_engine\n"
   ]
  },
  {
   "cell_type": "code",
   "execution_count": 4,
   "id": "61a18d86",
   "metadata": {},
   "outputs": [],
   "source": [
    "from pydantic_settings import BaseSettings # NEW\n"
   ]
  },
  {
   "cell_type": "code",
   "execution_count": 5,
   "id": "2fe2c22b",
   "metadata": {},
   "outputs": [
    {
     "data": {
      "text/plain": [
       "pydantic_settings.main.BaseSettings"
      ]
     },
     "execution_count": 5,
     "metadata": {},
     "output_type": "execute_result"
    }
   ],
   "source": [
    "BaseSettings"
   ]
  },
  {
   "cell_type": "code",
   "execution_count": 6,
   "id": "b3cc3d62",
   "metadata": {},
   "outputs": [],
   "source": [
    "from sqlalchemy import create_engine\n",
    "from sqlalchemy.ext.declarative import declarative_base\n",
    "from sqlalchemy.orm import sessionmaker"
   ]
  },
  {
   "cell_type": "code",
   "execution_count": 7,
   "id": "983950fa",
   "metadata": {},
   "outputs": [],
   "source": [
    "#url and function to load data \n",
    "import pandas as pd\n",
    "\n",
    "from sqlalchemy import create_engine\n",
    "\n",
    "SQLALCHEMY_DATABASE_URL = f'postgresql://{\"postgres\"}:{\"root\"}@{\"localhost\"}/{\"postgres\"}'\n",
    "\n",
    "engine = create_engine(SQLALCHEMY_DATABASE_URL)\n",
    "\n",
    "def load_data(csv_file, table_name):\n",
    "    df = pd.read_json(csv_file)\n",
    "    df.to_sql(table_name, engine, if_exists='append',\n",
    "              index=False)\n",
    "    \n"
   ]
  },
  {
   "cell_type": "code",
   "execution_count": 8,
   "id": "f5f1ef49",
   "metadata": {},
   "outputs": [],
   "source": [
    "from sqlalchemy import create_engine\n",
    "from sqlalchemy.ext.declarative import declarative_base\n",
    "from sqlalchemy.orm import sessionmaker\n",
    "\n",
    "\n",
    "\n",
    "SQLALCHEMY_DATABASE_URL = f'postgresql://{\"postgres\"}:{\"root\"}@{\"localhost\"}/{\"postgres\"}'\n",
    "\n",
    "engine = create_engine(SQLALCHEMY_DATABASE_URL)\n",
    "\n",
    "SessionLocal = sessionmaker(autocommit=False, autoflush=False, bind=engine)\n",
    "\n",
    "Base = declarative_base()\n",
    "\n",
    "\n",
    "def get_db():\n",
    "    db = SessionLocal()\n",
    "    try:\n",
    "        yield db\n",
    "    finally:\n",
    "        db.close()\n",
    "        \n",
    "        "
   ]
  },
  {
   "cell_type": "code",
   "execution_count": 9,
   "id": "3d761c6b",
   "metadata": {},
   "outputs": [],
   "source": [
    "from sqlalchemy import create_engine, Column,Date, Float , Integer, String, ForeignKey\n",
    "from sqlalchemy.orm import relationship\n",
    "from sqlalchemy.ext.declarative import declarative_base\n",
    "\n",
    "class sales(Base):\n",
    "    __tablename__ = 'sales'\n",
    "    sale_id = Column(Integer,ForeignKey('products.product_id', ondelete='CASCADE'), ForeignKey('stores.store_id', ondelete='CASCADE'),  primary_key=True)\n",
    "    date = Column(Date)\n",
    "    units = Column(Integer)\n",
    "    year = Column(Integer)\n",
    "    quarter = Column(Integer)\n",
    "    month = Column(Integer)\n",
    "    \n",
    "class products(Base):\n",
    "    __tablename__ = 'products'\n",
    "    product_id = Column(Integer, ForeignKey('inventory.inventory_id', ondelete='CASCADE'), primary_key=True)\n",
    "    product_name = Column(String)\n",
    "    product_category = Column(String)\n",
    "    product_cost = Column(Float)\n",
    "    product_price = Column(Float)\n",
    "    profit = Column(Float)\n",
    "    sales = relationship(\"sales\", backref=\"products\")\n",
    "\n",
    "\n",
    "class inventory(Base):\n",
    "    __tablename__ = 'inventory'\n",
    "    inventory_id = Column(Integer, primary_key=True)\n",
    "    stock_on_hand = Column(Integer)\n",
    "    products = relationship(\"products\", backref=\"inventory\")\n",
    "    stores = relationship(\"stores\", backref=\"sales\")\n",
    "\n",
    "\n",
    "class stores(Base):\n",
    "    __tablename__ = 'stores'\n",
    "    store_id = Column(Integer, ForeignKey('inventory.inventory_id', ondelete='CASCADE'), primary_key=True)\n",
    "    store_name = Column(String)\n",
    "    store_city = Column(String)\n",
    "    store_location = Column(String)\n",
    "    store_open_date = Column(Integer)\n",
    "    year_operation = Column(Integer)\n",
    "    sales = relationship(\"sales\",  backref=\"stores\")\n",
    "\n",
    "Base.metadata.create_all(bind=engine)\n"
   ]
  },
  {
   "cell_type": "code",
   "execution_count": 10,
   "id": "daabe548",
   "metadata": {
    "scrolled": false
   },
   "outputs": [],
   "source": [
    "Base.metadata.create_all(bind=engine)\n",
    "load_data('final data/inventoryXproducts.json' ,\"inventoryXproducts\")\n",
    "load_data('final data/inventoryXstores.json' ,\"inventoryXstores\")\n",
    "load_data('final data/salesXproducts.json' ,\"salesXproducts\")\n",
    "load_data('final data/salesXstores.json' ,\"salesXstores\")\n",
    "load_data('final data/cleaned_sales.json', \"sale\")\n",
    "load_data('final data/cleaned_stores.json', \"store\")\n",
    "load_data('final data/cleaned_inventory.json', \"inventories\")\n",
    "load_data('final data/cleaned_product.json', \"product\")"
   ]
  }
 ],
 "metadata": {
  "kernelspec": {
   "display_name": "Python 3",
   "language": "python",
   "name": "python3"
  },
  "language_info": {
   "codemirror_mode": {
    "name": "ipython",
    "version": 3
   },
   "file_extension": ".py",
   "mimetype": "text/x-python",
   "name": "python",
   "nbconvert_exporter": "python",
   "pygments_lexer": "ipython3",
   "version": "3.9.12"
  }
 },
 "nbformat": 4,
 "nbformat_minor": 5
}
