{
 "cells": [
  {
   "cell_type": "code",
   "execution_count": 28,
   "id": "129474a4",
   "metadata": {},
   "outputs": [],
   "source": [
    "import psycopg2"
   ]
  },
  {
   "cell_type": "code",
   "execution_count": 29,
   "id": "16a6421e",
   "metadata": {},
   "outputs": [],
   "source": [
    "conn = psycopg2.connect(host=\"localhost\", database=\"postgres\", user=\"postgres\", password=\"root\")\n",
    "conn.autocommit = True\n"
   ]
  },
  {
   "cell_type": "code",
   "execution_count": 30,
   "id": "07acab18",
   "metadata": {},
   "outputs": [],
   "source": [
    "cursor = conn.cursor()\n",
    "cursor.execute(\"select * from inventory\")\n",
    "results = cursor.fetchall()\n",
    "for row in results:\n",
    "    print(row)"
   ]
  },
  {
   "cell_type": "code",
   "execution_count": 31,
   "id": "70216820",
   "metadata": {},
   "outputs": [
    {
     "name": "stdout",
     "output_type": "stream",
     "text": [
      "Proportion of sales per inventory:\n"
     ]
    }
   ],
   "source": [
    "cursor = conn.cursor()\n",
    "cursor.execute(\"\"\"\n",
    "SELECT stores.store_id,\n",
    "       100.0 * SUM(sales.units) / (SUM(sales.units) + SUM(inventory.stock_on_hand)) AS sales_proportion\n",
    "FROM sales\n",
    "JOIN stores ON sales.store_id = stores.store_id\n",
    "JOIN inventory ON stores.store_id = inventory.store_id AND sales.product_id = inventory.product_id\n",
    "GROUP BY stores.store_id;\n",
    "\"\"\")\n",
    "sales_proportions = cursor.fetchall()\n",
    "\n",
    "print(\"Proportion of sales per inventory:\")\n",
    "for store_id, proportion in sales_proportions:\n",
    "    print(f\"Store name: {store_name}, Proportion: {proportion:.2f}%\")\n",
    "    \n",
    "    \n",
    "\n",
    "\n"
   ]
  },
  {
   "cell_type": "code",
   "execution_count": 13,
   "id": "0a3bf337",
   "metadata": {},
   "outputs": [
    {
     "ename": "UndefinedColumn",
     "evalue": "column sales.product_id does not exist\nLINE 6: JOIN products ON sales.product_id = products.product_id\n                         ^\n",
     "output_type": "error",
     "traceback": [
      "\u001b[1;31m---------------------------------------------------------------------------\u001b[0m",
      "\u001b[1;31mUndefinedColumn\u001b[0m                           Traceback (most recent call last)",
      "Input \u001b[1;32mIn [13]\u001b[0m, in \u001b[0;36m<cell line: 2>\u001b[1;34m()\u001b[0m\n\u001b[0;32m      1\u001b[0m cursor \u001b[38;5;241m=\u001b[39m conn\u001b[38;5;241m.\u001b[39mcursor()\n\u001b[1;32m----> 2\u001b[0m \u001b[43mcursor\u001b[49m\u001b[38;5;241;43m.\u001b[39;49m\u001b[43mexecute\u001b[49m\u001b[43m(\u001b[49m\u001b[38;5;124;43m\"\"\"\u001b[39;49m\n\u001b[0;32m      3\u001b[0m \u001b[38;5;124;43mSELECT YEAR(sale_date) AS year,\u001b[39;49m\n\u001b[0;32m      4\u001b[0m \u001b[38;5;124;43m       QUARTER(sale_date) AS quarter,\u001b[39;49m\n\u001b[0;32m      5\u001b[0m \u001b[38;5;124;43m       SUM(sales.quantity * products.price) AS total_sales\u001b[39;49m\n\u001b[0;32m      6\u001b[0m \u001b[38;5;124;43mFROM sales\u001b[39;49m\n\u001b[0;32m      7\u001b[0m \u001b[38;5;124;43mJOIN products ON sales.product_id = products.product_id\u001b[39;49m\n\u001b[0;32m      8\u001b[0m \u001b[38;5;124;43mGROUP BY YEAR(sale_date), QUARTER(sale_date);\u001b[39;49m\n\u001b[0;32m      9\u001b[0m \u001b[38;5;124;43m\"\"\"\u001b[39;49m\u001b[43m)\u001b[49m\n\u001b[0;32m     10\u001b[0m sales_per_quarter_per_year \u001b[38;5;241m=\u001b[39m cursor\u001b[38;5;241m.\u001b[39mfetchall()\n\u001b[0;32m     12\u001b[0m \u001b[38;5;66;03m# Print results with formatting\u001b[39;00m\n",
      "\u001b[1;31mUndefinedColumn\u001b[0m: column sales.product_id does not exist\nLINE 6: JOIN products ON sales.product_id = products.product_id\n                         ^\n"
     ]
    }
   ],
   "source": [
    "\n",
    "cursor = conn.cursor()\n",
    "cursor.execute(\"\"\"\n",
    "SELECT YEAR(sale_date) AS year,\n",
    "       QUARTER(sale_date) AS quarter,\n",
    "       SUM(sales.quantity * products.price) AS total_sales\n",
    "FROM sales\n",
    "JOIN products ON sales.product_id = products.product_id\n",
    "GROUP BY YEAR(sale_date), QUARTER(sale_date);\n",
    "\"\"\")\n",
    "sales_per_quarter_per_year = cursor.fetchall()\n",
    "\n",
    "# Print results with formatting\n",
    "print(\"Sales per quarter per year:\")\n",
    "for year, quarter, total_sales in sales_per_quarter_per_year:\n",
    "    # Convert quarter number to human-readable format\n",
    "    quarter_name = [\"Q1\", \"Q2\", \"Q3\", \"Q4\"][quarter - 1]\n",
    "    print(f\"Year: {year}, Quarter: {quarter_name}, Total Sales: {total_sales}\")\n"
   ]
  },
  {
   "cell_type": "code",
   "execution_count": null,
   "id": "5c7f676a",
   "metadata": {},
   "outputs": [],
   "source": [
    "cursor.close()\n",
    "conn.close()\n"
   ]
  },
  {
   "cell_type": "code",
   "execution_count": 8,
   "id": "1a0476a7",
   "metadata": {},
   "outputs": [
    {
     "name": "stdout",
     "output_type": "stream",
     "text": [
      "<class 'pandas.core.frame.DataFrame'>\n",
      "RangeIndex: 50 entries, 0 to 49\n",
      "Data columns (total 6 columns):\n",
      " #   Column           Non-Null Count  Dtype \n",
      "---  ------           --------------  ----- \n",
      " 0   store_id         50 non-null     int64 \n",
      " 1   store_name       50 non-null     object\n",
      " 2   store_city       50 non-null     object\n",
      " 3   store_location   50 non-null     object\n",
      " 4   store_open_date  50 non-null     object\n",
      " 5   year_operation   50 non-null     int64 \n",
      "dtypes: int64(2), object(4)\n",
      "memory usage: 2.5+ KB\n"
     ]
    }
   ],
   "source": [
    "stores.info()"
   ]
  },
  {
   "cell_type": "code",
   "execution_count": 9,
   "id": "19233da5",
   "metadata": {},
   "outputs": [
    {
     "name": "stdout",
     "output_type": "stream",
     "text": [
      "<class 'pandas.core.frame.DataFrame'>\n",
      "RangeIndex: 829262 entries, 0 to 829261\n",
      "Data columns (total 8 columns):\n",
      " #   Column      Non-Null Count   Dtype \n",
      "---  ------      --------------   ----- \n",
      " 0   sale_id     829262 non-null  int64 \n",
      " 1   date        829262 non-null  object\n",
      " 2   store_id    829262 non-null  int64 \n",
      " 3   product_id  829262 non-null  int64 \n",
      " 4   units       829262 non-null  int64 \n",
      " 5   year        829262 non-null  int64 \n",
      " 6   quarter     829262 non-null  int64 \n",
      " 7   month       829262 non-null  int64 \n",
      "dtypes: int64(7), object(1)\n",
      "memory usage: 50.6+ MB\n"
     ]
    }
   ],
   "source": [
    "sales.info()"
   ]
  },
  {
   "cell_type": "code",
   "execution_count": 10,
   "id": "4e9702c3",
   "metadata": {},
   "outputs": [
    {
     "name": "stdout",
     "output_type": "stream",
     "text": [
      "<class 'pandas.core.frame.DataFrame'>\n",
      "RangeIndex: 1593 entries, 0 to 1592\n",
      "Data columns (total 3 columns):\n",
      " #   Column         Non-Null Count  Dtype\n",
      "---  ------         --------------  -----\n",
      " 0   store_id       1593 non-null   int64\n",
      " 1   product_id     1593 non-null   int64\n",
      " 2   stock_on_hand  1593 non-null   int64\n",
      "dtypes: int64(3)\n",
      "memory usage: 37.5 KB\n"
     ]
    }
   ],
   "source": [
    "inventory.info()"
   ]
  },
  {
   "cell_type": "code",
   "execution_count": 7,
   "id": "8bcb5483",
   "metadata": {},
   "outputs": [],
   "source": [
    "import pandas as pd\n",
    "\n",
    "\n",
    "stores= pd.read_csv('final data/cleaned_stores.csv')\n",
    "products = pd.read_csv('final data/cleaned_product.csv')\n",
    "sales = pd.read_csv('final data/cleaned_sales.csv')\n",
    "inventory = pd.read_csv('final data/cleaned_inventory.csv')"
   ]
  },
  {
   "cell_type": "code",
   "execution_count": null,
   "id": "b75f873f",
   "metadata": {},
   "outputs": [],
   "source": [
    "sales"
   ]
  },
  {
   "cell_type": "code",
   "execution_count": null,
   "id": "aa0a854b",
   "metadata": {},
   "outputs": [],
   "source": [
    "stores"
   ]
  },
  {
   "cell_type": "code",
   "execution_count": null,
   "id": "4db321bc",
   "metadata": {},
   "outputs": [],
   "source": [
    "inventory"
   ]
  },
  {
   "cell_type": "code",
   "execution_count": null,
   "id": "8241f50e",
   "metadata": {},
   "outputs": [],
   "source": [
    "where inventory.product\n",
    "sales per product sum * 100 / sum inventory & quantity sold"
   ]
  }
 ],
 "metadata": {
  "kernelspec": {
   "display_name": "Python 3",
   "language": "python",
   "name": "python3"
  },
  "language_info": {
   "codemirror_mode": {
    "name": "ipython",
    "version": 3
   },
   "file_extension": ".py",
   "mimetype": "text/x-python",
   "name": "python",
   "nbconvert_exporter": "python",
   "pygments_lexer": "ipython3",
   "version": "3.9.12"
  }
 },
 "nbformat": 4,
 "nbformat_minor": 5
}
